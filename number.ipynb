{
 "cells": [
  {
   "cell_type": "code",
   "execution_count": 23,
   "metadata": {
    "pycharm": {
     "is_executing": false
    }
   },
   "outputs": [
    {
     "data": {
      "text/plain": "array([1., 1., 1., 1., 1., 1., 1., 1., 1., 1., 1., 1., 1., 1., 1., 1., 1.,\n       1., 1., 1., 1., 1., 1., 1., 1., 1., 1., 1., 1., 1., 1., 1., 1., 1.,\n       1., 1., 1., 1., 1., 1., 1., 1., 1., 1., 1., 1., 1., 1., 1., 1., 1.,\n       1., 1., 1., 1., 1., 1., 1., 1., 1., 1., 1., 1., 1., 1., 1., 1., 1.,\n       1., 1., 1., 1., 1., 1., 1., 1., 1., 1., 1., 1., 1., 1., 1., 1., 1.,\n       1., 1., 1., 1., 1., 1., 1., 1., 1., 1., 1., 1., 1., 1., 1.])"
     },
     "metadata": {},
     "output_type": "execute_result",
     "execution_count": 23
    }
   ],
   "source": [
    "import numpy as np\n",
    "\n",
    "np.linspace(1,1,100)"
   ]
  },
  {
   "cell_type": "code",
   "execution_count": 31,
   "metadata": {
    "pycharm": {
     "is_executing": false,
     "name": "#%%\n"
    }
   },
   "outputs": [
    {
     "name": "stdout",
     "text": [
      "[[0.31500569 0.59901445 0.98298716 ... 0.76684024 0.39815539 0.94444218]\n [0.56217865 0.03534242 0.79587756 ... 0.02884896 0.89873589 0.10758472]\n [0.82959602 0.77590632 0.35461081 ... 0.31689676 0.86258394 0.03861842]\n ...\n [0.40189881 0.32608962 0.78351346 ... 0.55451487 0.20197546 0.22541577]\n [0.55686357 0.98366393 0.98865608 ... 0.0683651  0.32810289 0.92681314]\n [0.9951832  0.70471751 0.77542862 ... 0.73027358 0.48456164 0.80937695]]\n"
     ],
     "output_type": "stream"
    }
   ],
   "source": [
    "import numpy as np\n",
    "n_random_ = np.random.random((100,100))\n",
    "print(n_random_)\n",
    "\n"
   ]
  },
  {
   "cell_type": "code",
   "execution_count": 32,
   "outputs": [
    {
     "name": "stdout",
     "text": [
      "[[21.41910656 83.27034118 49.15953993 ...  7.8699916  71.00441626\n  62.1273626 ]\n [86.0914639  80.9486792  39.39467143 ...  5.34544792 32.75347337\n   7.19241842]\n [ 3.43096783 50.88336641 78.04246088 ... 98.25744193 43.57747914\n  69.79120509]\n ...\n [ 2.20527728 58.52236515 15.8952052  ... 36.66941676 42.99984998\n  80.21472783]\n [21.91209542 61.64465152 19.28266324 ... 22.68992976 70.32686644\n  73.6724461 ]\n [44.70933676 64.16997146 35.00043955 ... 51.6842559  86.49370227\n  86.71497877]]\n"
     ],
     "output_type": "stream"
    }
   ],
   "source": [
    "m_random = np.random.random((100,100))*100\n",
    "print(m_random)\n",
    "\n"
   ],
   "metadata": {
    "collapsed": false,
    "pycharm": {
     "name": "#%%\n",
     "is_executing": false
    }
   }
  }
 ],
 "metadata": {
  "kernelspec": {
   "display_name": "Python 3",
   "language": "python",
   "name": "python3"
  },
  "language_info": {
   "codemirror_mode": {
    "name": "ipython",
    "version": 3
   },
   "file_extension": ".py",
   "mimetype": "text/x-python",
   "name": "python",
   "nbconvert_exporter": "python",
   "pygments_lexer": "ipython3",
   "version": "3.7.5"
  },
  "pycharm": {
   "stem_cell": {
    "cell_type": "raw",
    "source": [],
    "metadata": {
     "collapsed": false
    }
   }
  }
 },
 "nbformat": 4,
 "nbformat_minor": 1
}