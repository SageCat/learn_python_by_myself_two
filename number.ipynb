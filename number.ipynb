{
 "cells": [
  {
   "cell_type": "code",
   "execution_count": 4,
   "metadata": {
    "pycharm": {
     "is_executing": false
    }
   },
   "outputs": [
    {
     "data": {
      "text/plain": [
       "array([1., 1., 1., 1., 1., 1., 1., 1., 1., 1., 1., 1., 1., 1., 1., 1., 1.,\n",
       "       1., 1., 1., 1., 1., 1., 1., 1., 1., 1., 1., 1., 1., 1., 1., 1., 1.,\n",
       "       1., 1., 1., 1., 1., 1., 1., 1., 1., 1., 1., 1., 1., 1., 1., 1., 1.,\n",
       "       1., 1., 1., 1., 1., 1., 1., 1., 1., 1., 1., 1., 1., 1., 1., 1., 1.,\n",
       "       1., 1., 1., 1., 1., 1., 1., 1., 1., 1., 1., 1., 1., 1., 1., 1., 1.,\n",
       "       1., 1., 1., 1., 1., 1., 1., 1., 1., 1., 1., 1., 1., 1., 1.])"
      ]
     },
     "execution_count": 4,
     "metadata": {},
     "output_type": "execute_result"
    }
   ],
   "source": [
    "import numpy as np\n",
    "\n",
    "np.linspace(1,1,100)"
   ]
  },
  {
   "cell_type": "code",
   "execution_count": 21,
   "metadata": {
    "pycharm": {
     "is_executing": false,
     "name": "#%%\n"
    }
   },
   "outputs": [
    {
     "name": "stdout",
     "output_type": "stream",
     "text": [
      "[[3.38657129e-01 3.12077237e-01 2.88560011e-01 ... 6.48093790e-01\n",
      "  8.65886727e-01 2.00940656e-02]\n",
      " [3.05265986e-02 8.34084976e-01 1.18132832e-01 ... 8.83079734e-01\n",
      "  5.02300619e-02 8.23347930e-02]\n",
      " [2.91487769e-02 7.58034031e-01 7.67790487e-04 ... 8.04509168e-01\n",
      "  3.64889307e-01 3.02615323e-01]\n",
      " ...\n",
      " [1.02186388e-02 7.80239315e-01 6.41884797e-01 ... 7.06488788e-02\n",
      "  8.42002704e-01 4.83287683e-01]\n",
      " [9.41972407e-01 6.71382372e-01 2.39235778e-01 ... 3.12874079e-01\n",
      "  6.36210772e-01 4.77364832e-01]\n",
      " [7.84491564e-01 5.99542030e-02 3.75345271e-01 ... 8.12006783e-01\n",
      "  6.27145749e-01 3.65657146e-01]]\n"
     ]
    }
   ],
   "source": [
    "n_random_ = np.random.random((100,100))\n",
    "print(n_random_)"
   ]
  },
  {
   "cell_type": "code",
   "execution_count": null,
   "metadata": {
    "pycharm": {
     "name": "#%%\n"
    }
   },
   "outputs": [],
   "source": [
    "\n"
   ]
  }
 ],
 "metadata": {
  "kernelspec": {
   "display_name": "Python 3",
   "language": "python",
   "name": "python3"
  },
  "language_info": {
   "codemirror_mode": {
    "name": "ipython",
    "version": 3
   },
   "file_extension": ".py",
   "mimetype": "text/x-python",
   "name": "python",
   "nbconvert_exporter": "python",
   "pygments_lexer": "ipython3",
   "version": "3.7.5"
  },
  "pycharm": {
   "stem_cell": {
    "cell_type": "raw",
    "metadata": {
     "collapsed": false
    },
    "source": []
   }
  }
 },
 "nbformat": 4,
 "nbformat_minor": 1
}
